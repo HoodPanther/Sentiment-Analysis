{
 "cells": [
  {
   "cell_type": "code",
   "execution_count": 76,
   "metadata": {
    "collapsed": true
   },
   "outputs": [],
   "source": [
    "import twitter\n",
    "import json\n",
    "import pandas as pd\n",
    "import base64\n",
    "import re\n",
    "from textblob import TextBlob\n",
    "import pickle\n",
    "%matplotlib inline\n",
    "\n",
    "# Variables that contains the user credentials to access Twitter API\n",
    "ACCESS_TOKEN_KEY        = '##############################'\n",
    "ACCESS_TOKEN_SECRET     = '##############################'\n",
    "CONSUMER_KEY            = '##############################'\n",
    "CONSUMER_SECRET         = '##############################'\n",
    "\n",
    "# Initiate the connection to Twitter Streaming API\n",
    "#twitter_stream = TwitterStream(auth=oauth)\n",
    "\n",
    "api = twitter.Api(consumer_key = CONSUMER_KEY,\n",
    "                  consumer_secret = CONSUMER_SECRET,\n",
    "                  access_token_key = ACCESS_TOKEN_KEY,\n",
    "                  access_token_secret = ACCESS_TOKEN_SECRET)\n",
    "\n",
    "def clean_tweet(tweet):\n",
    "    '''\n",
    "    Utility function to clean tweet text by removing links, special characters\n",
    "    using simple regex statements.\n",
    "    '''\n",
    "    return ' '.join(re.sub(\"(@[A-Za-z0-9]+)|([^0-9A-Za-z \\t]) |(\\w+:\\/\\/\\S+)\", \" \", tweet).split())\n",
    "\n",
    "def get_tweet_sentiment(tweet):\n",
    "    '''\n",
    "    Utility function to classify sentiment of passed tweet\n",
    "    using textblob's sentiment method\n",
    "    '''\n",
    "    # create TextBlob object of passed tweet text\n",
    "    analysis = TextBlob(clean_tweet(tweet))\n",
    "    # set sentiment\n",
    "    if analysis.sentiment.polarity > 0:\n",
    "        return 'positive'\n",
    "    elif analysis.sentiment.polarity == 0:\n",
    "        return 'neutral'\n",
    "    else:\n",
    "        return 'negative'\n",
    "    \n",
    "def get_min_max(tweets):\n",
    "    ids = []\n",
    "    for tweet in tweets:\n",
    "        # print tweet\n",
    "        if type(tweet) is list:\n",
    "            tweet = tweet[0]\n",
    "        ids.append(tweet.id)\n",
    "    min_id = min(ids)\n",
    "    max_id = max(ids)\n",
    "    return min_id, max_id\n",
    "    \n",
    "def get_tweets(term, count):\n",
    "    all_tweets = []\n",
    "    max_id = 843567375765159939000000\n",
    "    #print max_id\n",
    "    loop_count = int(count / 100)\n",
    "    for i in range(loop_count):\n",
    "        tweets = api.GetSearch(term=term, count = 100)\n",
    "        #print 'Total number of tweets found - '  +  str(len(tweets))\n",
    "        try:\n",
    "            min_id, max_id = get_min_max(tweets)\n",
    "            all_tweets = all_tweets + tweets\n",
    "        except:\n",
    "            print ('something wrong')\n",
    "            pass\n",
    "    return all_tweets\n",
    "  \n",
    "\n",
    "def get_tweets_df(tweets):\n",
    "    result = []\n",
    "    for tweet in tweets:\n",
    "        favorite_count = tweet.favorite_count\n",
    "        retweet_count = tweet.retweet_count\n",
    "        source = tweet.source\n",
    "        text = tweet.text\n",
    "        urls = tweet.urls\n",
    "        sentiment = get_tweet_sentiment(text)\n",
    "        \n",
    "        result.append({\n",
    "            #'text': base64.b64encode(text.encode('ascii', 'ignore').decode('ascii')),\n",
    "            'text': text.encode('ascii', 'ignore').decode('ascii'),\n",
    "            'sentiment': sentiment,\n",
    "            'favorite_count' : favorite_count,\n",
    "            'source' : source,\n",
    "            'retweet_count' : retweet_count,\n",
    "            'user_fav_count': tweet.user.favourites_count,\n",
    "            'user_follower_count': tweet.user.followers_count,\n",
    "            'user_friends_count': tweet.user.friends_count,\n",
    "            'user_screen_name' : tweet.user.screen_name.encode('ascii', 'ignore').decode('ascii'),\n",
    "            'user_name': tweet.user.name.encode('ascii', 'ignore').decode('ascii'),\n",
    "            'user_url': tweet.user.url\n",
    "        })\n",
    "    result_df = pd.DataFrame(result)\n",
    "    return result_df\n",
    "\n",
    "def print_tweet(tweet):\n",
    "    print ('---- Printing tweet ----')\n",
    "    print (tweet.favorite_count)\n",
    "    print (tweet.text)\n",
    "    print (' --------- x --------- ')\n",
    "\n",
    "def input_list_sentiment_calculate(my_list):\n",
    "    \n",
    "    for i in my_list:\n",
    "        print(\"Fetching tweets for %s\" % i)\n",
    "        tweets_person = get_tweets(i, 5000)\n",
    "        print(\"Total number of tweets fetched = \" + str(len(tweets_person)))\n",
    "        df_person = get_tweets_df(tweets_person)\n",
    "        sentiment_person = df_person.groupby(['sentiment'])[['sentiment']].count()\n",
    "        sentiment_person.rename(columns={'sentiment': i}, inplace=True)\n",
    "        sentiment_person.plot(kind = 'bar')"
   ]
  },
  {
   "cell_type": "code",
   "execution_count": 78,
   "metadata": {},
   "outputs": [
    {
     "name": "stdout",
     "output_type": "stream",
     "text": [
      "Fetching tweets for Trump\n",
      "Total number of tweets fetched = 5000\n"
     ]
    },
    {
     "data": {
      "image/png": "[encoded data removed]",
      "text/plain": [
       "<matplotlib.figure.Figure at 0x120b8c358>"
      ]
     },
     "metadata": {},
     "output_type": "display_data"
    }
   ],
   "source": [
    "input_list_sentiment_calculate(['Trump'])"
   ]
  }
 ],
 "metadata": {
  "kernelspec": {
   "display_name": "Python 3",
   "language": "python",
   "name": "python3"
  },
  "language_info": {
   "codemirror_mode": {
    "name": "ipython",
    "version": 3
   },
   "file_extension": ".py",
   "mimetype": "text/x-python",
   "name": "python",
   "nbconvert_exporter": "python",
   "pygments_lexer": "ipython3",
   "version": "3.5.4"
  }
 },
 "nbformat": 4,
 "nbformat_minor": 2
}

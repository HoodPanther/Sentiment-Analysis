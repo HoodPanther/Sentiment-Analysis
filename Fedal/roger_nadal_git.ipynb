{
 "cells": [
  {
   "cell_type": "markdown",
   "metadata": {},
   "source": [
    "## Sentiment Analysis - Roger Federer vs Rafael Nadal Final Match"
   ]
  },
  {
   "cell_type": "markdown",
   "metadata": {},
   "source": [
    "Sentiment Analysis on Twitter data for tomorrow's Shanghai Masters Final 2017. Python-twitter Api has been used to get data. Textblob for NLP and calculating sentiment of the tweets."
   ]
  },
  {
   "cell_type": "code",
   "execution_count": 1,
   "metadata": {
    "collapsed": true
   },
   "outputs": [],
   "source": [
    "import twitter\n",
    "import json\n",
    "import pandas as pd\n",
    "import base64\n",
    "\n",
    "%matplotlib inline"
   ]
  },
  {
   "cell_type": "code",
   "execution_count": null,
   "metadata": {
    "collapsed": true
   },
   "outputs": [],
   "source": [
    "# Variables that contains the user credentials to access Twitter API\n",
    "ACCESS_TOKEN_KEY      =    '##########################'\n",
    "ACCESS_TOKEN_SECRET   =    '##########################'\n",
    "CONSUMER_KEY          =    '##########################'\n",
    "CONSUMER_SECRET       =    '##########################'"
   ]
  },
  {
   "cell_type": "code",
   "execution_count": 8,
   "metadata": {},
   "outputs": [],
   "source": [
    "# Initiate the connection to Twitter Streaming API\n",
    "#twitter_stream = TwitterStream(auth=oauth)\n",
    "\n",
    "api = twitter.Api(consumer_key = CONSUMER_KEY,\n",
    "                  consumer_secret = CONSUMER_SECRET,\n",
    "                  access_token_key = ACCESS_TOKEN_KEY,\n",
    "                  access_token_secret = ACCESS_TOKEN_SECRET)"
   ]
  },
  {
   "cell_type": "code",
   "execution_count": 9,
   "metadata": {
    "collapsed": true
   },
   "outputs": [],
   "source": [
    "import re\n",
    "from textblob import TextBlob\n",
    "\n",
    "def clean_tweet(tweet):\n",
    "    '''\n",
    "    Utility function to clean tweet text by removing links, special characters\n",
    "    using simple regex statements.\n",
    "    '''\n",
    "    return ' '.join(re.sub(\"(@[A-Za-z0-9]+)|([^0-9A-Za-z \\t]) |(\\w+:\\/\\/\\S+)\", \" \", tweet).split())\n",
    "\n",
    "def get_tweet_sentiment(tweet):\n",
    "    '''\n",
    "    Utility function to classify sentiment of passed tweet\n",
    "    using textblob's sentiment method\n",
    "    '''\n",
    "    # create TextBlob object of passed tweet text\n",
    "    analysis = TextBlob(clean_tweet(tweet))\n",
    "    # set sentiment\n",
    "    if analysis.sentiment.polarity > 0:\n",
    "        return 'positive'\n",
    "    elif analysis.sentiment.polarity == 0:\n",
    "        return 'neutral'\n",
    "    else:\n",
    "        return 'negative'\n",
    "    \n",
    "def get_min_max(tweets):\n",
    "    ids = []\n",
    "    for tweet in tweets:\n",
    "        # print tweet\n",
    "        if type(tweet) is list:\n",
    "            tweet = tweet[0]\n",
    "        ids.append(tweet.id)\n",
    "    min_id = min(ids)\n",
    "    max_id = max(ids)\n",
    "    return min_id, max_id\n",
    "    \n",
    "def get_tweets(term, count):\n",
    "    all_tweets = []\n",
    "    max_id = 843567375765159939000000\n",
    "    #print max_id\n",
    "    loop_count = int(count / 100)\n",
    "    for i in range(loop_count):\n",
    "        tweets = api.GetSearch(term=term, count = 100)\n",
    "        #print 'Total number of tweets found - '  +  str(len(tweets))\n",
    "        try:\n",
    "            min_id, max_id = get_min_max(tweets)\n",
    "            all_tweets = all_tweets + tweets\n",
    "        except:\n",
    "            print ('something wrong')\n",
    "            pass\n",
    "    return all_tweets\n",
    "  \n",
    "\n",
    "def get_tweets_df(tweets):\n",
    "    result = []\n",
    "    for tweet in tweets:\n",
    "        favorite_count = tweet.favorite_count\n",
    "        retweet_count = tweet.retweet_count\n",
    "        source = tweet.source\n",
    "        text = tweet.text\n",
    "        urls = tweet.urls\n",
    "        sentiment = get_tweet_sentiment(text)\n",
    "        \n",
    "        result.append({\n",
    "            #'text': base64.b64encode(text.encode('ascii', 'ignore').decode('ascii')),\n",
    "            'text': text.encode('ascii', 'ignore').decode('ascii'),\n",
    "            'Sentiment': sentiment,\n",
    "            'Likes' : favorite_count,\n",
    "            'Retweets' : retweet_count,\n",
    "            'Followers': tweet.user.followers_count,\n",
    "            'Tweeter-Handle' : tweet.user.screen_name.encode('ascii', 'ignore').decode('ascii'),\n",
    "            'user_name': tweet.user.name.encode('ascii', 'ignore').decode('ascii'),\n",
    "        })\n",
    "    result_df = pd.DataFrame(result)\n",
    "    return result_df\n",
    "\n",
    "def print_tweet(tweet):\n",
    "    print ('---- Printing tweet ----')\n",
    "    print (tweet.favorite_count)\n",
    "    print (tweet.text)\n",
    "    print (' --------- x --------- ')"
   ]
  },
  {
   "cell_type": "code",
   "execution_count": 10,
   "metadata": {},
   "outputs": [
    {
     "name": "stdout",
     "output_type": "stream",
     "text": [
      "Fetching tweets for Roger Federer\n",
      "Total number of tweets fetched = 2000\n",
      "Fetching tweets for Rafael Nadal\n",
      "Total number of tweets fetched = 2000\n"
     ]
    }
   ],
   "source": [
    "print ('Fetching tweets for Roger Federer')\n",
    "tweets_federer = get_tweets('Federer', 2000)\n",
    "print ('Total number of tweets fetched = ' + str(len(tweets_federer)))\n",
    "\n",
    "print ('Fetching tweets for Rafael Nadal')\n",
    "tweets_nadal = get_tweets('Nadal', 2000)\n",
    "print ('Total number of tweets fetched = ' + str(len(tweets_nadal)))"
   ]
  },
  {
   "cell_type": "code",
   "execution_count": 11,
   "metadata": {
    "collapsed": true
   },
   "outputs": [],
   "source": [
    "df_federer = get_tweets_df(tweets_federer)\n",
    "df_nadal = get_tweets_df(tweets_nadal)\n",
    "\n",
    "df_federer.to_csv('federer.csv')\n",
    "df_nadal.to_csv('nadal.csv')\n",
    "\n",
    "sentiment_federer = df_federer.groupby(['Sentiment'])[['Sentiment']].count()\n",
    "sentiment_federer.rename(columns={'Sentiment': 'Federer'}, inplace=True)\n",
    "\n",
    "sentiment_nadal = df_nadal.groupby(['Sentiment'])[['Sentiment']].count()\n",
    "sentiment_nadal.rename(columns={'Sentiment': 'Nadal'}, inplace=True)\n",
    "\n",
    "#Concatenate the results df\n",
    "stats = pd.concat([sentiment_federer, sentiment_nadal] ,axis=1, join='inner')"
   ]
  },
  {
   "cell_type": "code",
   "execution_count": 12,
   "metadata": {},
   "outputs": [
    {
     "data": {
      "text/plain": [
       "<matplotlib.axes._subplots.AxesSubplot at 0x11b62dda0>"
      ]
     },
     "execution_count": 12,
     "metadata": {},
     "output_type": "execute_result"
    },
    {
     "data": {
      "image/png": "[encoded data removed]",
      "text/plain": [
       "<matplotlib.figure.Figure at 0x11b36e0b8>"
      ]
     },
     "metadata": {},
     "output_type": "display_data"
    }
   ],
   "source": [
    "stats.plot(kind='bar')"
   ]
  },
  {
   "cell_type": "markdown",
   "metadata": {},
   "source": [
    "None of the tweet are negative that probably shows the respects that both player have from the other player's fans."
   ]
  },
  {
   "cell_type": "code",
   "execution_count": 13,
   "metadata": {},
   "outputs": [
    {
     "data": {
      "text/html": [
       "<div>\n",
       "<style>\n",
       "    .dataframe thead tr:only-child th {\n",
       "        text-align: right;\n",
       "    }\n",
       "\n",
       "    .dataframe thead th {\n",
       "        text-align: left;\n",
       "    }\n",
       "\n",
       "    .dataframe tbody tr th {\n",
       "        vertical-align: top;\n",
       "    }\n",
       "</style>\n",
       "<table border=\"1\" class=\"dataframe\">\n",
       "  <thead>\n",
       "    <tr style=\"text-align: right;\">\n",
       "      <th></th>\n",
       "      <th>Federer</th>\n",
       "      <th>Nadal</th>\n",
       "    </tr>\n",
       "    <tr>\n",
       "      <th>Sentiment</th>\n",
       "      <th></th>\n",
       "      <th></th>\n",
       "    </tr>\n",
       "  </thead>\n",
       "  <tbody>\n",
       "    <tr>\n",
       "      <th>neutral</th>\n",
       "      <td>1353</td>\n",
       "      <td>1573</td>\n",
       "    </tr>\n",
       "    <tr>\n",
       "      <th>positive</th>\n",
       "      <td>647</td>\n",
       "      <td>367</td>\n",
       "    </tr>\n",
       "  </tbody>\n",
       "</table>\n",
       "</div>"
      ],
      "text/plain": [
       "           Federer  Nadal\n",
       "Sentiment                \n",
       "neutral       1353   1573\n",
       "positive       647    367"
      ]
     },
     "execution_count": 13,
     "metadata": {},
     "output_type": "execute_result"
    }
   ],
   "source": [
    "stats"
   ]
  }
 ],
 "metadata": {
  "kernelspec": {
   "display_name": "Python 3",
   "language": "python",
   "name": "python3"
  },
  "language_info": {
   "codemirror_mode": {
    "name": "ipython",
    "version": 3
   },
   "file_extension": ".py",
   "mimetype": "text/x-python",
   "name": "python",
   "nbconvert_exporter": "python",
   "pygments_lexer": "ipython3",
   "version": "3.5.4"
  }
 },
 "nbformat": 4,
 "nbformat_minor": 2
}
